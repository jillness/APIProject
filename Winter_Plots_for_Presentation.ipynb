{
 "cells": [
  {
   "cell_type": "code",
   "execution_count": 6,
   "metadata": {},
   "outputs": [],
   "source": [
    "import pandas as pd\n",
    "import matplotlib.pyplot as plt\n",
    "import seaborn as sns"
   ]
  },
  {
   "cell_type": "code",
   "execution_count": 7,
   "metadata": {},
   "outputs": [
    {
     "data": {
      "text/html": [
       "<div>\n",
       "<style scoped>\n",
       "    .dataframe tbody tr th:only-of-type {\n",
       "        vertical-align: middle;\n",
       "    }\n",
       "\n",
       "    .dataframe tbody tr th {\n",
       "        vertical-align: top;\n",
       "    }\n",
       "\n",
       "    .dataframe thead th {\n",
       "        text-align: right;\n",
       "    }\n",
       "</style>\n",
       "<table border=\"1\" class=\"dataframe\">\n",
       "  <thead>\n",
       "    <tr style=\"text-align: right;\">\n",
       "      <th></th>\n",
       "      <th>Unnamed: 0</th>\n",
       "      <th>Winter Anthem</th>\n",
       "      <th>Artist</th>\n",
       "      <th>Song URI</th>\n",
       "      <th>Date</th>\n",
       "      <th>Danceability</th>\n",
       "      <th>Energy</th>\n",
       "      <th>Acousticness</th>\n",
       "      <th>Valence</th>\n",
       "      <th>Tempo</th>\n",
       "      <th>Instrumentalness</th>\n",
       "    </tr>\n",
       "  </thead>\n",
       "  <tbody>\n",
       "    <tr>\n",
       "      <th>0</th>\n",
       "      <td>0</td>\n",
       "      <td>Perfect</td>\n",
       "      <td>Ed Sheeran</td>\n",
       "      <td>spotify:track:1bhUWB0zJMIKr9yVPrkEuI</td>\n",
       "      <td>2017</td>\n",
       "      <td>0.587</td>\n",
       "      <td>0.299</td>\n",
       "      <td>0.77900</td>\n",
       "      <td>0.356</td>\n",
       "      <td>94.992</td>\n",
       "      <td>0.0000</td>\n",
       "    </tr>\n",
       "    <tr>\n",
       "      <th>1</th>\n",
       "      <td>1</td>\n",
       "      <td>Rockstar</td>\n",
       "      <td>Post Malone Featuring 21 Savage</td>\n",
       "      <td>NaN</td>\n",
       "      <td>2017</td>\n",
       "      <td>NaN</td>\n",
       "      <td>NaN</td>\n",
       "      <td>NaN</td>\n",
       "      <td>NaN</td>\n",
       "      <td>NaN</td>\n",
       "      <td>NaN</td>\n",
       "    </tr>\n",
       "    <tr>\n",
       "      <th>2</th>\n",
       "      <td>2</td>\n",
       "      <td>Havana</td>\n",
       "      <td>Camila Cabello Featuring Young Thug</td>\n",
       "      <td>NaN</td>\n",
       "      <td>2017</td>\n",
       "      <td>NaN</td>\n",
       "      <td>NaN</td>\n",
       "      <td>NaN</td>\n",
       "      <td>NaN</td>\n",
       "      <td>NaN</td>\n",
       "      <td>NaN</td>\n",
       "    </tr>\n",
       "    <tr>\n",
       "      <th>3</th>\n",
       "      <td>3</td>\n",
       "      <td>Gucci Gang</td>\n",
       "      <td>Lil Pump</td>\n",
       "      <td>spotify:track:43ZyHQITOjhciSUUNPVRHc</td>\n",
       "      <td>2017</td>\n",
       "      <td>0.936</td>\n",
       "      <td>0.523</td>\n",
       "      <td>0.23900</td>\n",
       "      <td>0.699</td>\n",
       "      <td>119.889</td>\n",
       "      <td>0.0000</td>\n",
       "    </tr>\n",
       "    <tr>\n",
       "      <th>4</th>\n",
       "      <td>4</td>\n",
       "      <td>Thunder</td>\n",
       "      <td>Imagine Dragons</td>\n",
       "      <td>spotify:track:7BrsBU0BAytRDvROM4yCbn</td>\n",
       "      <td>2017</td>\n",
       "      <td>0.601</td>\n",
       "      <td>0.809</td>\n",
       "      <td>0.00763</td>\n",
       "      <td>0.249</td>\n",
       "      <td>167.960</td>\n",
       "      <td>0.0757</td>\n",
       "    </tr>\n",
       "  </tbody>\n",
       "</table>\n",
       "</div>"
      ],
      "text/plain": [
       "   Unnamed: 0 Winter Anthem                                Artist  \\\n",
       "0           0       Perfect                            Ed Sheeran   \n",
       "1           1      Rockstar       Post Malone Featuring 21 Savage   \n",
       "2           2        Havana   Camila Cabello Featuring Young Thug   \n",
       "3           3    Gucci Gang                              Lil Pump   \n",
       "4           4       Thunder                       Imagine Dragons   \n",
       "\n",
       "                               Song URI  Date  Danceability  Energy  \\\n",
       "0  spotify:track:1bhUWB0zJMIKr9yVPrkEuI  2017         0.587   0.299   \n",
       "1                                   NaN  2017           NaN     NaN   \n",
       "2                                   NaN  2017           NaN     NaN   \n",
       "3  spotify:track:43ZyHQITOjhciSUUNPVRHc  2017         0.936   0.523   \n",
       "4  spotify:track:7BrsBU0BAytRDvROM4yCbn  2017         0.601   0.809   \n",
       "\n",
       "   Acousticness  Valence    Tempo  Instrumentalness  \n",
       "0       0.77900    0.356   94.992            0.0000  \n",
       "1           NaN      NaN      NaN               NaN  \n",
       "2           NaN      NaN      NaN               NaN  \n",
       "3       0.23900    0.699  119.889            0.0000  \n",
       "4       0.00763    0.249  167.960            0.0757  "
      ]
     },
     "execution_count": 7,
     "metadata": {},
     "output_type": "execute_result"
    }
   ],
   "source": [
    "path = 'Winter Hot 100.csv'\n",
    "winter_charts = pd.read_csv(path)\n",
    "winter_charts.head()"
   ]
  },
  {
   "cell_type": "code",
   "execution_count": 8,
   "metadata": {},
   "outputs": [],
   "source": [
    "# columns = ['Winter Anthem', \n",
    "#             'Artist',\n",
    "#             'Song URI',\n",
    "#             'Date',\n",
    "#             'Lyrics',\n",
    "#             'Sentiment',\n",
    "#             'Danceability',\n",
    "#             'Energy',\n",
    "#             'Acousticness',\n",
    "#             'Valence',\n",
    "#             'Tempo',\n",
    "#             'Instrumentalness']"
   ]
  },
  {
   "cell_type": "code",
   "execution_count": 14,
   "metadata": {},
   "outputs": [
    {
     "data": {
      "image/png": "[encoded data removed]",
      "text/plain": [
       "<matplotlib.figure.Figure at 0x10c924da0>"
      ]
     },
     "metadata": {},
     "output_type": "display_data"
    }
   ],
   "source": [
    "# Winter: Date vs Danceability\n",
    "plt.bar(winter_charts ['Date'], winter_charts['Danceability'])\n",
    "plt.show()"
   ]
  },
  {
   "cell_type": "code",
   "execution_count": 16,
   "metadata": {},
   "outputs": [
    {
     "data": {
      "image/png": "[encoded data removed]",
      "text/plain": [
       "<matplotlib.figure.Figure at 0x113500cc0>"
      ]
     },
     "metadata": {},
     "output_type": "display_data"
    }
   ],
   "source": [
    "# Winter: Date vs Energy\n",
    "plt.bar(winter_charts ['Date'], winter_charts['Energy'])\n",
    "plt.show()"
   ]
  },
  {
   "cell_type": "code",
   "execution_count": 18,
   "metadata": {},
   "outputs": [
    {
     "data": {
      "image/png": "[encoded data removed]",
      "text/plain": [
       "<matplotlib.figure.Figure at 0x115135ac8>"
      ]
     },
     "metadata": {},
     "output_type": "display_data"
    }
   ],
   "source": [
    "# Winter: Date vs Acousticness\n",
    "plt.bar(winter_charts ['Date'], winter_charts['Acousticness'])\n",
    "plt.show()"
   ]
  },
  {
   "cell_type": "code",
   "execution_count": 20,
   "metadata": {},
   "outputs": [
    {
     "data": {
      "image/png": "[encoded data removed]",
      "text/plain": [
       "<matplotlib.figure.Figure at 0x1139eb400>"
      ]
     },
     "metadata": {},
     "output_type": "display_data"
    }
   ],
   "source": [
    "# Winter: Date vs Valence\n",
    "plt.bar(winter_charts ['Date'], winter_charts['Valence'])\n",
    "plt.show()"
   ]
  },
  {
   "cell_type": "code",
   "execution_count": 22,
   "metadata": {},
   "outputs": [
    {
     "data": {
      "image/png": "[encoded data removed]",
      "text/plain": [
       "<matplotlib.figure.Figure at 0x112df2c50>"
      ]
     },
     "metadata": {},
     "output_type": "display_data"
    }
   ],
   "source": [
    "# Winter: Date vs Tempo\n",
    "plt.bar(winter_charts ['Date'], winter_charts['Tempo'])\n",
    "plt.show()"
   ]
  },
  {
   "cell_type": "code",
   "execution_count": 23,
   "metadata": {},
   "outputs": [
    {
     "data": {
      "image/png": "[encoded data removed]",
      "text/plain": [
       "<matplotlib.figure.Figure at 0x115060b00>"
      ]
     },
     "metadata": {},
     "output_type": "display_data"
    }
   ],
   "source": [
    "# Winter: Date vs Instrumentalness\n",
    "plt.bar(winter_charts ['Date'], winter_charts['Instrumentalness'])\n",
    "plt.show()"
   ]
  },
  {
   "cell_type": "code",
   "execution_count": null,
   "metadata": {},
   "outputs": [],
   "source": []
  }
 ],
 "metadata": {
  "kernelspec": {
   "display_name": "Python 3",
   "language": "python",
   "name": "python3"
  },
  "language_info": {
   "codemirror_mode": {
    "name": "ipython",
    "version": 3
   },
   "file_extension": ".py",
   "mimetype": "text/x-python",
   "name": "python",
   "nbconvert_exporter": "python",
   "pygments_lexer": "ipython3",
   "version": "3.6.4"
  }
 },
 "nbformat": 4,
 "nbformat_minor": 2
}
