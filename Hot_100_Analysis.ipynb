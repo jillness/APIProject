{
 "cells": [
  {
   "cell_type": "code",
   "execution_count": 1,
   "metadata": {},
   "outputs": [],
   "source": [
    "from config import spotify_client_ID, spotify_client_secret, my_spotify_uri, weather_api, my_redirect_url, username, scope\n",
    "from spotipy.oauth2 import SpotifyClientCredentials\n",
    "from json.decoder import JSONDecodeError\n",
    "\n",
    "import datetime \n",
    "import openweathermapy.core as owm\n",
    "import requests\n",
    "import spotipy\n",
    "import pprint\n",
    "import sys\n",
    "import re\n",
    "import os\n",
    "import pandas as pd\n",
    "import spotipy.util as util\n",
    "import json\n",
    "import billboard\n",
    "import time"
   ]
  },
  {
   "cell_type": "code",
   "execution_count": 2,
   "metadata": {},
   "outputs": [],
   "source": [
    "year = datetime.datetime.today().year\n",
    "years = list(range(year, year - 59, -1))\n",
    "\n",
    "summer_charts = []\n",
    "winter_charts =[]\n",
    "\n",
    "for year in years:\n",
    "    summer_chart = billboard.ChartData(f'hot-100/{year}-06-20')\n",
    "    winter_chart = billboard.ChartData(f'hot-100/{year}-12-20')\n",
    "\n",
    "    summer_charts.append(summer_chart)\n",
    "    winter_charts.append(winter_chart)\n",
    "    "
   ]
  },
  {
   "cell_type": "code",
   "execution_count": 4,
   "metadata": {},
   "outputs": [],
   "source": [
    "summer_songs = []\n",
    "winter_songs = []\n",
    "summer_artists = []\n",
    "winter_artists = []\n",
    "\n",
    "for chart in summer_charts:\n",
    "    for entry in chart:\n",
    "        entry = str(entry)\n",
    "        temp = re.split(r\"(' by)\", entry)\n",
    "        song = temp[0].replace(\"'\",\"\")\n",
    "        summer_songs.append(song)\n",
    "        singer = temp[2]\n",
    "        summer_artists.append(singer)\n",
    "\n",
    "for chart in winter_charts:\n",
    "    for entry in chart:\n",
    "        entry = str(entry)\n",
    "        temp = re.split(r\"(' by)\", entry)\n",
    "        song = temp[0].replace(\"'\",\"\")\n",
    "        winter_songs.append(song)\n",
    "        singer = temp[2]\n",
    "        winter_artists.append(singer)"
   ]
  },
  {
   "cell_type": "code",
   "execution_count": 5,
   "metadata": {},
   "outputs": [
    {
     "name": "stdout",
     "output_type": "stream",
     "text": [
      "Despacito\n",
      " Luis Fonsi & Daddy Yankee Featuring Justin Bieber\n",
      "5800\n",
      "Perfect\n",
      " Ed Sheeran\n",
      "5800\n"
     ]
    }
   ],
   "source": [
    "print(summer_songs[0])\n",
    "print(summer_artists[0])\n",
    "print(len(summer_songs))\n",
    "print(winter_songs[0])\n",
    "print(winter_artists[0])\n",
    "print(len(winter_songs))"
   ]
  },
  {
   "cell_type": "code",
   "execution_count": null,
   "metadata": {},
   "outputs": [
    {
     "name": "stdout",
     "output_type": "stream",
     "text": [
      "\n",
      ">> this is No 1 in summer \n",
      "\n",
      ">> this is No 2 in summer \n",
      "\n",
      ">> this is No 3 in summer \n",
      "\n",
      ">> this is No 4 in summer \n",
      "\n",
      ">> this is No 5 in summer \n",
      "\n",
      ">> this is No 6 in summer \n",
      "\n",
      ">> this is No 7 in summer \n",
      "\n",
      ">> this is No 8 in summer \n",
      "\n",
      ">> this is No 9 in summer \n",
      "\n",
      ">> this is No 10 in summer \n",
      "\n",
      ">> this is No 11 in summer \n",
      "\n",
      ">> this is No 12 in summer \n",
      "\n",
      ">> this is No 13 in summer \n"
     ]
    }
   ],
   "source": [
    "summer_music = zip(summer_songs, summer_artists)\n",
    "winter_music = zip(winter_songs, winter_artists)\n",
    "summer_lyrics = []\n",
    "winter_lyrics = []\n",
    "n = 0 \n",
    "\n",
    "for song, artist in summer_music:\n",
    "    try:\n",
    "        url = f\"https://api.lyrics.ovh/v1/{artist}/{song}\"\n",
    "        words = requests.get(url).json()\n",
    "        summer_lyrics.append(words)\n",
    "        time.sleep(.1)\n",
    "        n +=1\n",
    "        print(('\\n>> this is No '+ str(n) + ' in summer '))\n",
    "    except: \n",
    "        summer_lyrics.append('N/A')\n",
    "    \n",
    "for song, artist in winter_music:\n",
    "    try:\n",
    "        url = f\"https://api.lyrics.ovh/v1/{artist}/{song}\"\n",
    "        words = requests.get(url).json()\n",
    "        winter_lyrics.append(words)\n",
    "        time.sleep(.1)\n",
    "        n +=1\n",
    "        print(('\\n>> this is No '+ str(n) + ' in winter '))\n",
    "        \n",
    "    except:\n",
    "        winter_lyrics.append('N/A')"
   ]
  },
  {
   "cell_type": "code",
   "execution_count": null,
   "metadata": {},
   "outputs": [],
   "source": [
    "print(winter_lyrics[0])"
   ]
  },
  {
   "cell_type": "code",
   "execution_count": null,
   "metadata": {},
   "outputs": [],
   "source": [
    "summer_uri_list = []\n",
    "winter_uri_list = []\n",
    "n = 0 \n",
    "\n",
    "for song, artist in (summer_songs, summer_artists):\n",
    "    query = spotify.search('song' + 'artist')\n",
    "    song_uri = query['tracks']['items'][0]['uri']\n",
    "    summer_uri_list.append(song_uri)\n",
    "    n +=1\n",
    "    print(('\\n>> this is No '+ str(n) + ' in winter '))\n",
    "    time.sleep(.3)\n",
    " "
   ]
  },
  {
   "cell_type": "code",
   "execution_count": null,
   "metadata": {},
   "outputs": [],
   "source": [
    "n = 0    \n",
    "for song, artist in (winter_songs, winter_artists):\n",
    "    query = spotify.search('song' + 'artist')\n",
    "    song_uri = query['tracks']['items'][0]['uri']\n",
    "    winter_uri_list.append(song_uri)\n",
    "    time.sleep(1)\n",
    "    n +=1\n",
    "    \n",
    "    print(('\\n>> this is No '+ str(n) + ' in winter '))\n",
    "    time.sleep(.3)\n",
    "   "
   ]
  },
  {
   "cell_type": "code",
   "execution_count": null,
   "metadata": {},
   "outputs": [],
   "source": [
    "# df = pd.DataFrame(list(zip(summer_songs, summer_artists, winter_songs, winter_artists)), columns = ['Summer Top Song', \n",
    "#                                                                                                     'Summer Top Artist',\n",
    "#                                                                                                    'Winter Top Song',\n",
    "#                                                                                                    'Winter Top Artist'])\n",
    "# df"
   ]
  }
 ],
 "metadata": {
  "kernelspec": {
   "display_name": "Python 3",
   "language": "python",
   "name": "python3"
  },
  "language_info": {
   "codemirror_mode": {
    "name": "ipython",
    "version": 3
   },
   "file_extension": ".py",
   "mimetype": "text/x-python",
   "name": "python",
   "nbconvert_exporter": "python",
   "pygments_lexer": "ipython3",
   "version": "3.6.4"
  }
 },
 "nbformat": 4,
 "nbformat_minor": 2
}
