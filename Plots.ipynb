{
 "cells": [
  {
   "cell_type": "code",
   "execution_count": 1,
   "metadata": {},
   "outputs": [],
   "source": [
    "import pandas as pd\n",
    "import matplotlib.pyplot as plt\n",
    "import seaborn as sns"
   ]
  },
  {
   "cell_type": "code",
   "execution_count": null,
   "metadata": {},
   "outputs": [],
   "source": [
    "path = 'Winter Hot 100.csv'\n",
    "winter_charts = pd.read_csv(path)\n",
    "winter_charts.head()"
   ]
  },
  {
   "cell_type": "code",
   "execution_count": null,
   "metadata": {},
   "outputs": [],
   "source": [
    "path = 'Summer Hot 100.csv'\n",
    "summer_charts = pd.read_csv(path)\n",
    "summer_charts.head()"
   ]
  },
  {
   "cell_type": "code",
   "execution_count": null,
   "metadata": {},
   "outputs": [],
   "source": [
    "plt.scatter(winter_charts['Date'], winter_charts['Sentiment'])\n",
    "plt.scatter(summer_charts['Date'], summer_charts['Sentiment'])\n",
    "plt.show"
   ]
  },
  {
   "cell_type": "code",
   "execution_count": null,
   "metadata": {},
   "outputs": [],
   "source": [
    "# columns = ['Winter Anthem', \n",
    "#             'Artist',\n",
    "#             'Song URI',\n",
    "#             'Date',\n",
    "#             'Lyrics',\n",
    "#             'Sentiment',\n",
    "#             'Danceability',\n",
    "#             'Energy',\n",
    "#             'Acousticness',\n",
    "#             'Valence',\n",
    "#             'Tempo',\n",
    "#             'Instrumentalness']"
   ]
  }
 ],
 "metadata": {
  "kernelspec": {
   "display_name": "Python 3",
   "language": "python",
   "name": "python3"
  },
  "language_info": {
   "codemirror_mode": {
    "name": "ipython",
    "version": 3
   },
   "file_extension": ".py",
   "mimetype": "text/x-python",
   "name": "python",
   "nbconvert_exporter": "python",
   "pygments_lexer": "ipython3",
   "version": "3.6.4"
  }
 },
 "nbformat": 4,
 "nbformat_minor": 2
}
